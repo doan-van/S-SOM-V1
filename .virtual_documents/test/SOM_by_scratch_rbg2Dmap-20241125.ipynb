














import pandas as pd
import numpy as np
import matplotlib.pyplot as plt
from mpl_toolkits.mplot3d import Axes3D
import random as rand





# Load data from CSV and display the first few rows
df = pd.read_csv('test_data.csv')
print(df.head())

# Extract values from DataFrame as a 2D numpy array
input_data = df.values





# Plot data in 3D space for visualization
fig = plt.figure()
ax = fig.add_subplot(projection='3d')
x_coords, y_coords, z_coords = input_data[:, 0], input_data[:, 1], input_data[:, 2]  # Extract x, y, z components
ax.scatter(x_coords, y_coords, z_coords, marker='o', c=input_data)  # Plot data points in 3D
ax.view_init(15, 50)  # Set initial view angle for the plot
plt.show()





# Get dimensions of input data
num_samples = input_data.shape[0]  # Number of samples (input vectors)
num_dimensions = input_data.shape[1]  # Number of dimensions per input vector (3 dimensions here)

print('Input data has', num_samples, 'samples (vectors)')
print('Each sample has', num_dimensions, 'dimensions')





# Set up SOM grid dimensions
grid_rows = 50  # Number of rows in SOM grid
grid_cols = 50  # Number of columns in SOM grid
print('SOM output domain (neural networks) is a rectangular grid')





# Define training parameters
num_iterations = 5000  # Total number of training iterations
learning_decay, max_learning_rate, neighborhood_decay = 0.25, 0.1, 0.5  # Learning rate and neighborhood decay parameters
learning_rate_decay_time = num_iterations * learning_decay  # Determines decay rate for learning rate
initial_neighborhood_radius = grid_rows * neighborhood_decay  # Determines initial neighborhood size





# Create index map for grid, storing row and column indices for each cell
grid_indices = np.zeros([grid_rows, grid_cols, 2])
for row in range(grid_rows):
    for col in range(grid_cols):
        grid_indices[row, col] = row, col  # Assign each cell a (row, column) coordinate





# Initialize SOM grid with random values
som_grid = np.random.uniform(low=0, high=1, size=[grid_rows, grid_cols, num_dimensions])

# Plot the initial SOM grid state
plt.imshow(som_grid)
plt.title("Initial SOM grid state")
plt.show()





# Training loop for SOM
for iteration in range(num_iterations):
    
    # Step 1: Select a random input vector from the dataset
    random_index = rand.randint(0, input_data.shape[0] - 1)  # Random index selection
    selected_vector = input_data[random_index]  # Selected input vector
    
    # Step 2: Find Best Matching Unit (BMU) on the grid
    
    # Step 2-1: Calculate the difference between the selected input vector and each unit in the SOM grid
    difference = som_grid - selected_vector  # Broadcasts to calculate difference for each dimension
    # Step 2-2: Compute the Euclidean distance for each grid unit from the input vector
    distance_to_input = np.linalg.norm(difference, axis=2)  # Reduces along the dimension axis to get 2D distances
    # Step 2-3: Find the index of the unit with the smallest distance to the input vector
    flat_bmu_index = np.argmin(distance_to_input)  # Finds the flat index of the minimum distance
    bmu_index = np.unravel_index(flat_bmu_index, som_grid.shape[:2])  # Converts flat index to 2D grid coordinates
     
    # Step 3: Update SOM grid
    # Step 3-1: Calculate learning rate and neighborhood function for current iteration
    current_learning_rate = max_learning_rate * np.exp(-iteration / learning_rate_decay_time)  # Decaying learning rate
    current_neighborhood_radius = initial_neighborhood_radius * np.exp(-iteration / learning_rate_decay_time)  # Decaying neighborhood radius
    distance_from_bmu = np.linalg.norm(grid_indices - bmu_index, axis=2)  # Distance from BMU to other cells
    neighborhood_influence = np.exp(-distance_from_bmu**2 / (2 * current_neighborhood_radius**2))  # Neighborhood function (Gaussian decay)

    # Step 3-2: Update grid values based on learning rate and neighborhood function
    som_grid += current_learning_rate * neighborhood_influence[:, :, np.newaxis] * (selected_vector - som_grid)

    # Visualize the neighborhood function at the first iteration
    if iteration == 0:
        plt.imshow(neighborhood_influence)
        plt.title("Neighborhood function at Step 1")
        plt.text(0, 0, 'Neighborhood function at Step 1', va='top')
        plt.show()
        print('=' * 20, '\n' * 10, '=' * 20)

    # Plot the SOM grid state at specific iterations
    if iteration in [1, 10, 20, 50, 75, 100, 500, 1000, 1500, 2000, 2500, 3000, 4000, num_iterations - 1]:
        normalized_grid = (som_grid - som_grid.min()) / (som_grid.max() - som_grid.min())
        plt.imshow(normalized_grid)
        plt.title(f"SOM grid at Step {iteration}")
        plt.text(0, 0, f'Step: {iteration}', va='top')
        plt.show()



